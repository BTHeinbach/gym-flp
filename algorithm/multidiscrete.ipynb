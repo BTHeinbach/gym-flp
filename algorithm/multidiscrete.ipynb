{
 "cells": [
  {
   "cell_type": "code",
   "execution_count": 7,
   "metadata": {
    "collapsed": true
   },
   "outputs": [
    {
     "name": "stdout",
     "output_type": "stream",
     "text": [
      "[27 26  4  5  2 26  8  9 14 13  5  6 27  2  4  6 14 26  4  4  2  2  3  5]\n",
      "[1 2 0 0 2 0]\n",
      "[27 27  4  5  1 26  8  9 15 13  5  6 28  2  4  6 13 26  4  4  3  2  3  5] 0 {'mhc': 3754.0, 'collisions': 0, 'r': 0}\n"
     ]
    }
   ],
   "source": [
    "import gym\n",
    "import gym_flp\n",
    "\n",
    "env = gym.make('ofp-v0', mode='rgb_array', instance='P6', aspace='discrete', multi=True)\n",
    "\n",
    "env.reset()\n",
    "print(env.internal_state)\n",
    "for _ in range(1):\n",
    "    a = env.action_space.sample()\n",
    "    s, r, d, i = env.step(a)\n",
    "    print(a)\n",
    "    print(env.internal_state,r, i)\n",
    "    env.render()"
   ]
  },
  {
   "cell_type": "code",
   "execution_count": null,
   "outputs": [],
   "source": [],
   "metadata": {
    "collapsed": false
   }
  }
 ],
 "metadata": {
  "kernelspec": {
   "display_name": "Python 3",
   "language": "python",
   "name": "python3"
  },
  "language_info": {
   "codemirror_mode": {
    "name": "ipython",
    "version": 2
   },
   "file_extension": ".py",
   "mimetype": "text/x-python",
   "name": "python",
   "nbconvert_exporter": "python",
   "pygments_lexer": "ipython2",
   "version": "2.7.6"
  }
 },
 "nbformat": 4,
 "nbformat_minor": 0
}
