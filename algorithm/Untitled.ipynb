{
 "cells": [
  {
   "cell_type": "code",
   "execution_count": 15,
   "id": "5de29269",
   "metadata": {},
   "outputs": [
    {
     "name": "stderr",
     "output_type": "stream",
     "text": [
      "Traceback (most recent call last):\n",
      "  File \"C:\\Users\\Shimraz\\anaconda3\\envs\\tf\\lib\\site-packages\\gym\\envs\\registration.py\", line 158, in spec\n",
      "    return self.env_specs[id]\n",
      "KeyError: 'ofp-v1'\n",
      "\n",
      "During handling of the above exception, another exception occurred:\n",
      "\n",
      "Traceback (most recent call last):\n",
      "  File \"D:\\Study\\Arbeit IPEM\\gym-flp\\algorithm\\untitled0.py\", line 32, in <module>\n",
      "    vec_env = make_vec_env('ofp-v1', env_kwargs={'mode': mode, \"instance\":instance})\n",
      "  File \"C:\\Users\\Shimraz\\anaconda3\\envs\\tf\\lib\\site-packages\\stable_baselines3\\common\\env_util.py\", line 105, in make_vec_env\n",
      "    return vec_env_cls([make_env(i + start_index) for i in range(n_envs)], **vec_env_kwargs)\n",
      "  File \"C:\\Users\\Shimraz\\anaconda3\\envs\\tf\\lib\\site-packages\\stable_baselines3\\common\\vec_env\\dummy_vec_env.py\", line 25, in __init__\n",
      "    self.envs = [fn() for fn in env_fns]\n",
      "  File \"C:\\Users\\Shimraz\\anaconda3\\envs\\tf\\lib\\site-packages\\stable_baselines3\\common\\vec_env\\dummy_vec_env.py\", line 25, in <listcomp>\n",
      "    self.envs = [fn() for fn in env_fns]\n",
      "  File \"C:\\Users\\Shimraz\\anaconda3\\envs\\tf\\lib\\site-packages\\stable_baselines3\\common\\env_util.py\", line 80, in _init\n",
      "    env = gym.make(env_id, **env_kwargs)\n",
      "  File \"C:\\Users\\Shimraz\\anaconda3\\envs\\tf\\lib\\site-packages\\gym\\envs\\registration.py\", line 235, in make\n",
      "    return registry.make(id, **kwargs)\n",
      "  File \"C:\\Users\\Shimraz\\anaconda3\\envs\\tf\\lib\\site-packages\\gym\\envs\\registration.py\", line 128, in make\n",
      "    spec = self.spec(path)\n",
      "  File \"C:\\Users\\Shimraz\\anaconda3\\envs\\tf\\lib\\site-packages\\gym\\envs\\registration.py\", line 185, in spec\n",
      "    raise error.DeprecatedEnv(\n",
      "gym.error.DeprecatedEnv: Env ofp-v1 not found (valid versions include ['ofp-v0'])\n"
     ]
    }
   ],
   "source": [
    "!python untitled0.py"
   ]
  },
  {
   "cell_type": "code",
   "execution_count": 14,
   "id": "883bb382",
   "metadata": {},
   "outputs": [
    {
     "name": "stdout",
     "output_type": "stream",
     "text": [
      "Collecting imageio\n",
      "  Downloading imageio-2.22.0-py3-none-any.whl (3.4 MB)\n",
      "     ---------------------------------------- 3.4/3.4 MB 8.9 MB/s eta 0:00:00\n",
      "Requirement already satisfied: numpy in c:\\users\\shimraz\\anaconda3\\envs\\tf\\lib\\site-packages (from imageio) (1.23.3)\n",
      "Requirement already satisfied: pillow>=8.3.2 in c:\\users\\shimraz\\anaconda3\\envs\\tf\\lib\\site-packages (from imageio) (9.2.0)\n",
      "Installing collected packages: imageio\n",
      "Successfully installed imageio-2.22.0\n"
     ]
    }
   ],
   "source": [
    "!pip install imageio"
   ]
  },
  {
   "cell_type": "code",
   "execution_count": 12,
   "id": "19af092a",
   "metadata": {},
   "outputs": [
    {
     "name": "stderr",
     "output_type": "stream",
     "text": [
      "ERROR: Could not find a version that satisfies the requirement PIL (from versions: none)\n",
      "ERROR: No matching distribution found for PIL\n"
     ]
    }
   ],
   "source": [
    "!pip install PIL"
   ]
  },
  {
   "cell_type": "code",
   "execution_count": null,
   "id": "3d5c242f",
   "metadata": {},
   "outputs": [],
   "source": []
  }
 ],
 "metadata": {
  "kernelspec": {
   "display_name": "Python 3 (ipykernel)",
   "language": "python",
   "name": "python3"
  },
  "language_info": {
   "codemirror_mode": {
    "name": "ipython",
    "version": 3
   },
   "file_extension": ".py",
   "mimetype": "text/x-python",
   "name": "python",
   "nbconvert_exporter": "python",
   "pygments_lexer": "ipython3",
   "version": "3.9.13"
  }
 },
 "nbformat": 4,
 "nbformat_minor": 5
}
